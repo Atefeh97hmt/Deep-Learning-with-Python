{
  "nbformat": 4,
  "nbformat_minor": 0,
  "metadata": {
    "colab": {
      "name": "mnist_mlp_dropout.ipynb",
      "provenance": []
    },
    "kernelspec": {
      "name": "python3",
      "display_name": "Python 3"
    },
    "language_info": {
      "name": "python"
    }
  },
  "cells": [
    {
      "cell_type": "code",
      "metadata": {
        "id": "tw_v0drLbwtq"
      },
      "source": [
        "from tensorflow.keras import datasets, utils, models, layers, optimizers, losses\n",
        "import numpy as np\n",
        "import matplotlib.pyplot as plt"
      ],
      "execution_count": 1,
      "outputs": []
    },
    {
      "cell_type": "markdown",
      "metadata": {
        "id": "hBXx5bGGcORL"
      },
      "source": [
        "## Data Preparation"
      ]
    },
    {
      "cell_type": "code",
      "metadata": {
        "id": "Da6YgL0ucNu0",
        "colab": {
          "base_uri": "https://localhost:8080/"
        },
        "outputId": "f3d9eb16-bd14-43c5-a1b5-39f11d438226"
      },
      "source": [
        "(train_images, train_labels), (test_images, test_labels) = datasets.mnist.load_data()\n",
        "\n",
        "# Preprocessing\n",
        "X_train = train_images.reshape(60000, 784)\n",
        "X_test = test_images.reshape(10000, 784)\n",
        "\n",
        "# Normalizing (0-1)\n",
        "X_train = X_train.astype('float32') / 255\n",
        "X_test =  X_test.astype('float32') / 255\n",
        "\n",
        "Y_train = utils.to_categorical(train_labels)\n",
        "Y_test = utils.to_categorical(test_labels)\n",
        "\n",
        "print(train_labels[0])\n",
        "print(Y_train[0])"
      ],
      "execution_count": 2,
      "outputs": [
        {
          "output_type": "stream",
          "text": [
            "Downloading data from https://storage.googleapis.com/tensorflow/tf-keras-datasets/mnist.npz\n",
            "11493376/11490434 [==============================] - 0s 0us/step\n",
            "5\n",
            "[0. 0. 0. 0. 0. 1. 0. 0. 0. 0.]\n"
          ],
          "name": "stdout"
        }
      ]
    },
    {
      "cell_type": "code",
      "metadata": {
        "id": "-LjCdbeHd7k7",
        "colab": {
          "base_uri": "https://localhost:8080/",
          "height": 105
        },
        "outputId": "c6281ed7-e204-4560-b3b6-d94bd752f477"
      },
      "source": [
        "# Visualize Sample Training Data\n",
        "for i in range(5):\n",
        "    plt.subplot(1,5,i+1)\n",
        "    plt.imshow(train_images[i], cmap='gray')\n",
        "    plt.title(train_labels[i])\n",
        "    plt.axis('off')"
      ],
      "execution_count": 3,
      "outputs": [
        {
          "output_type": "display_data",
          "data": {
            "image/png": "[encoded data removed]",
            "text/plain": [
              "<Figure size 432x288 with 5 Axes>"
            ]
          },
          "metadata": {
            "tags": [],
            "needs_background": "light"
          }
        }
      ]
    },
    {
      "cell_type": "markdown",
      "metadata": {
        "id": "dLbbih0XcuWD"
      },
      "source": [
        "## Model Creation"
      ]
    },
    {
      "cell_type": "code",
      "metadata": {
        "id": "JsaXsM0wcwnw",
        "colab": {
          "base_uri": "https://localhost:8080/"
        },
        "outputId": "9c8ca1eb-2589-4696-9750-d63c5ef804fd"
      },
      "source": [
        "myModel = models.Sequential()\n",
        "myModel.add(layers.Dense(500, activation='relu', input_shape=(784,)))\n",
        "myModel.add(layers.Dropout(0.2))\n",
        "myModel.add(layers.Dense(100, activation='relu'))\n",
        "myModel.add(layers.Dropout(0.2))\n",
        "myModel.add(layers.Dense(10, activation='softmax'))\n",
        "\n",
        "myModel.summary()\n",
        "myModel.compile(optimizer=optimizers.SGD(lr=0.01), loss=losses.categorical_crossentropy)"
      ],
      "execution_count": 6,
      "outputs": [
        {
          "output_type": "stream",
          "text": [
            "Model: \"sequential_1\"\n",
            "_________________________________________________________________\n",
            "Layer (type)                 Output Shape              Param #   \n",
            "=================================================================\n",
            "dense_3 (Dense)              (None, 500)               392500    \n",
            "_________________________________________________________________\n",
            "dropout_2 (Dropout)          (None, 500)               0         \n",
            "_________________________________________________________________\n",
            "dense_4 (Dense)              (None, 100)               50100     \n",
            "_________________________________________________________________\n",
            "dropout_3 (Dropout)          (None, 100)               0         \n",
            "_________________________________________________________________\n",
            "dense_5 (Dense)              (None, 10)                1010      \n",
            "=================================================================\n",
            "Total params: 443,610\n",
            "Trainable params: 443,610\n",
            "Non-trainable params: 0\n",
            "_________________________________________________________________\n"
          ],
          "name": "stdout"
        },
        {
          "output_type": "stream",
          "text": [
            "/usr/local/lib/python3.7/dist-packages/tensorflow/python/keras/optimizer_v2/optimizer_v2.py:375: UserWarning: The `lr` argument is deprecated, use `learning_rate` instead.\n",
            "  \"The `lr` argument is deprecated, use `learning_rate` instead.\")\n"
          ],
          "name": "stderr"
        }
      ]
    },
    {
      "cell_type": "markdown",
      "metadata": {
        "id": "z-IJoGIYc9Vi"
      },
      "source": [
        "## Train and Evaluation"
      ]
    },
    {
      "cell_type": "code",
      "metadata": {
        "colab": {
          "base_uri": "https://localhost:8080/"
        },
        "id": "_rr7HJbtFDvj",
        "outputId": "99317834-66ec-4950-85df-7bd1ed5fbdbe"
      },
      "source": [
        "history = myModel.fit(X_train, Y_train, batch_size=128, epochs=50, validation_split=0.2)"
      ],
      "execution_count": 7,
      "outputs": [
        {
          "output_type": "stream",
          "text": [
            "Epoch 1/50\n",
            "375/375 [==============================] - 3s 8ms/step - loss: 1.3511 - val_loss: 0.6293\n",
            "Epoch 2/50\n",
            "375/375 [==============================] - 3s 8ms/step - loss: 0.6481 - val_loss: 0.4165\n",
            "Epoch 3/50\n",
            "375/375 [==============================] - 3s 8ms/step - loss: 0.5042 - val_loss: 0.3472\n",
            "Epoch 4/50\n",
            "375/375 [==============================] - 3s 8ms/step - loss: 0.4385 - val_loss: 0.3116\n",
            "Epoch 5/50\n",
            "375/375 [==============================] - 3s 8ms/step - loss: 0.3967 - val_loss: 0.2872\n",
            "Epoch 6/50\n",
            "375/375 [==============================] - 3s 8ms/step - loss: 0.3663 - val_loss: 0.2686\n",
            "Epoch 7/50\n",
            "375/375 [==============================] - 3s 7ms/step - loss: 0.3419 - val_loss: 0.2533\n",
            "Epoch 8/50\n",
            "375/375 [==============================] - 3s 8ms/step - loss: 0.3236 - val_loss: 0.2421\n",
            "Epoch 9/50\n",
            "375/375 [==============================] - 3s 8ms/step - loss: 0.3085 - val_loss: 0.2308\n",
            "Epoch 10/50\n",
            "375/375 [==============================] - 3s 8ms/step - loss: 0.2947 - val_loss: 0.2205\n",
            "Epoch 11/50\n",
            "375/375 [==============================] - 3s 7ms/step - loss: 0.2811 - val_loss: 0.2128\n",
            "Epoch 12/50\n",
            "375/375 [==============================] - 3s 8ms/step - loss: 0.2679 - val_loss: 0.2044\n",
            "Epoch 13/50\n",
            "375/375 [==============================] - 3s 8ms/step - loss: 0.2592 - val_loss: 0.1978\n",
            "Epoch 14/50\n",
            "375/375 [==============================] - 3s 8ms/step - loss: 0.2487 - val_loss: 0.1907\n",
            "Epoch 15/50\n",
            "375/375 [==============================] - 3s 8ms/step - loss: 0.2402 - val_loss: 0.1853\n",
            "Epoch 16/50\n",
            "375/375 [==============================] - 3s 8ms/step - loss: 0.2341 - val_loss: 0.1796\n",
            "Epoch 17/50\n",
            "375/375 [==============================] - 3s 7ms/step - loss: 0.2226 - val_loss: 0.1752\n",
            "Epoch 18/50\n",
            "375/375 [==============================] - 3s 8ms/step - loss: 0.2201 - val_loss: 0.1695\n",
            "Epoch 19/50\n",
            "375/375 [==============================] - 3s 8ms/step - loss: 0.2107 - val_loss: 0.1655\n",
            "Epoch 20/50\n",
            "375/375 [==============================] - 3s 8ms/step - loss: 0.2064 - val_loss: 0.1614\n",
            "Epoch 21/50\n",
            "375/375 [==============================] - 3s 8ms/step - loss: 0.2006 - val_loss: 0.1580\n",
            "Epoch 22/50\n",
            "375/375 [==============================] - 3s 8ms/step - loss: 0.1964 - val_loss: 0.1539\n",
            "Epoch 23/50\n",
            "375/375 [==============================] - 3s 8ms/step - loss: 0.1901 - val_loss: 0.1507\n",
            "Epoch 24/50\n",
            "375/375 [==============================] - 3s 8ms/step - loss: 0.1861 - val_loss: 0.1478\n",
            "Epoch 25/50\n",
            "375/375 [==============================] - 3s 8ms/step - loss: 0.1798 - val_loss: 0.1450\n",
            "Epoch 26/50\n",
            "375/375 [==============================] - 3s 7ms/step - loss: 0.1759 - val_loss: 0.1422\n",
            "Epoch 27/50\n",
            "375/375 [==============================] - 3s 8ms/step - loss: 0.1727 - val_loss: 0.1402\n",
            "Epoch 28/50\n",
            "375/375 [==============================] - 3s 8ms/step - loss: 0.1708 - val_loss: 0.1367\n",
            "Epoch 29/50\n",
            "375/375 [==============================] - 3s 8ms/step - loss: 0.1649 - val_loss: 0.1348\n",
            "Epoch 30/50\n",
            "375/375 [==============================] - 3s 8ms/step - loss: 0.1628 - val_loss: 0.1319\n",
            "Epoch 31/50\n",
            "375/375 [==============================] - 3s 8ms/step - loss: 0.1570 - val_loss: 0.1299\n",
            "Epoch 32/50\n",
            "375/375 [==============================] - 3s 8ms/step - loss: 0.1533 - val_loss: 0.1282\n",
            "Epoch 33/50\n",
            "375/375 [==============================] - 3s 8ms/step - loss: 0.1509 - val_loss: 0.1263\n",
            "Epoch 34/50\n",
            "375/375 [==============================] - 3s 8ms/step - loss: 0.1486 - val_loss: 0.1242\n",
            "Epoch 35/50\n",
            "375/375 [==============================] - 3s 8ms/step - loss: 0.1449 - val_loss: 0.1224\n",
            "Epoch 36/50\n",
            "375/375 [==============================] - 3s 8ms/step - loss: 0.1438 - val_loss: 0.1207\n",
            "Epoch 37/50\n",
            "375/375 [==============================] - 3s 8ms/step - loss: 0.1395 - val_loss: 0.1192\n",
            "Epoch 38/50\n",
            "375/375 [==============================] - 3s 8ms/step - loss: 0.1378 - val_loss: 0.1175\n",
            "Epoch 39/50\n",
            "375/375 [==============================] - 3s 7ms/step - loss: 0.1351 - val_loss: 0.1156\n",
            "Epoch 40/50\n",
            "375/375 [==============================] - 3s 8ms/step - loss: 0.1326 - val_loss: 0.1141\n",
            "Epoch 41/50\n",
            "375/375 [==============================] - 3s 8ms/step - loss: 0.1313 - val_loss: 0.1129\n",
            "Epoch 42/50\n",
            "375/375 [==============================] - 3s 7ms/step - loss: 0.1290 - val_loss: 0.1120\n",
            "Epoch 43/50\n",
            "375/375 [==============================] - 3s 7ms/step - loss: 0.1270 - val_loss: 0.1105\n",
            "Epoch 44/50\n",
            "375/375 [==============================] - 3s 7ms/step - loss: 0.1251 - val_loss: 0.1095\n",
            "Epoch 45/50\n",
            "375/375 [==============================] - 3s 8ms/step - loss: 0.1204 - val_loss: 0.1084\n",
            "Epoch 46/50\n",
            "375/375 [==============================] - 3s 8ms/step - loss: 0.1212 - val_loss: 0.1070\n",
            "Epoch 47/50\n",
            "375/375 [==============================] - 3s 8ms/step - loss: 0.1163 - val_loss: 0.1058\n",
            "Epoch 48/50\n",
            "375/375 [==============================] - 3s 8ms/step - loss: 0.1150 - val_loss: 0.1055\n",
            "Epoch 49/50\n",
            "375/375 [==============================] - 3s 8ms/step - loss: 0.1146 - val_loss: 0.1041\n",
            "Epoch 50/50\n",
            "375/375 [==============================] - 3s 8ms/step - loss: 0.1138 - val_loss: 0.1033\n"
          ],
          "name": "stdout"
        }
      ]
    },
    {
      "cell_type": "code",
      "metadata": {
        "id": "f_EfMOGLdBdR",
        "colab": {
          "base_uri": "https://localhost:8080/",
          "height": 299
        },
        "outputId": "adb124b1-6e0b-4ebd-e1e7-475548069b57"
      },
      "source": [
        "# Plot Losses\n",
        "losses = history.history['loss']\n",
        "val_losses = history.history['val_loss']\n",
        "\n",
        "plt.plot(losses)\n",
        "plt.plot(val_losses)\n",
        "plt.xlabel('Epochs')\n",
        "plt.ylabel('Loss')\n",
        "plt.legend(['loss', 'val_loss'])"
      ],
      "execution_count": 8,
      "outputs": [
        {
          "output_type": "execute_result",
          "data": {
            "text/plain": [
              "<matplotlib.legend.Legend at 0x7ff0ab854d10>"
            ]
          },
          "metadata": {
            "tags": []
          },
          "execution_count": 8
        },
        {
          "output_type": "display_data",
          "data": {
            "image/png": "[encoded data removed]",
            "text/plain": [
              "<Figure size 432x288 with 1 Axes>"
            ]
          },
          "metadata": {
            "tags": [],
            "needs_background": "light"
          }
        }
      ]
    },
    {
      "cell_type": "code",
      "metadata": {
        "id": "C2dtMgE2dEsa",
        "colab": {
          "base_uri": "https://localhost:8080/",
          "height": 145
        },
        "outputId": "85bc4935-9c56-42b9-a3b8-b1def9cfdbbb"
      },
      "source": [
        "# Evaluation on Test Data\n",
        "test_loss = myModel.evaluate(X_test, Y_test)\n",
        "print(\"test loss: \", test_loss)\n",
        "\n",
        "test_labels_p = myModel.predict(X_test)\n",
        "test_labels_p = np.argmax(test_labels_p, axis=1)\n",
        "\n",
        "n = 0\n",
        "f, axs = plt.subplots(1,10,figsize=(15,15))\n",
        "for i in range(len(test_labels)):\n",
        "    if n >= 10:\n",
        "      break\n",
        "    if (test_labels_p[i] != test_labels[i]):\n",
        "      axs[n].imshow(test_images[i], cmap='gray')\n",
        "      axs[n].set_title(f'{test_labels[i]} -> {test_labels_p[i]}')\n",
        "      axs[n].axis('off')\n",
        "      n = n+1"
      ],
      "execution_count": 9,
      "outputs": [
        {
          "output_type": "stream",
          "text": [
            "313/313 [==============================] - 1s 2ms/step - loss: 0.0981\n",
            "test loss:  0.09806519001722336\n"
          ],
          "name": "stdout"
        },
        {
          "output_type": "display_data",
          "data": {
            "image/png": "[encoded data removed]",
            "text/plain": [
              "<Figure size 1080x1080 with 10 Axes>"
            ]
          },
          "metadata": {
            "tags": [],
            "needs_background": "light"
          }
        }
      ]
    }
  ]
}